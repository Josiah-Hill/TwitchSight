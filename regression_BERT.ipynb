{
 "cells": [
  {
   "cell_type": "code",
   "execution_count": 1,
   "metadata": {},
   "outputs": [
    {
     "name": "stderr",
     "output_type": "stream",
     "text": [
      "/home/admin/VS Code Projects/TwitchSight/venv/lib/python3.10/site-packages/tqdm/auto.py:21: TqdmWarning: IProgress not found. Please update jupyter and ipywidgets. See https://ipywidgets.readthedocs.io/en/stable/user_install.html\n",
      "  from .autonotebook import tqdm as notebook_tqdm\n"
     ]
    }
   ],
   "source": [
    "import pandas as pd\n",
    "import numpy as np\n",
    "import matplotlib.pyplot as plt\n",
    "from tqdm import tqdm\n",
    "import uuid\n",
    "from sentence_transformers import SentenceTransformer\n",
    "import os\n",
    "from sklearn.model_selection import train_test_split\n",
    "from sklearn.preprocessing import LabelEncoder\n",
    "from sklearn.linear_model import LogisticRegression\n",
    "from sklearn.metrics import classification_report\n",
    "from sklearn.metrics import confusion_matrix\n",
    "import matplotlib.pyplot as plt\n",
    "import seaborn as sns"
   ]
  },
  {
   "cell_type": "code",
   "execution_count": 2,
   "metadata": {},
   "outputs": [
    {
     "data": {
      "text/html": [
       "<div>\n",
       "<style scoped>\n",
       "    .dataframe tbody tr th:only-of-type {\n",
       "        vertical-align: middle;\n",
       "    }\n",
       "\n",
       "    .dataframe tbody tr th {\n",
       "        vertical-align: top;\n",
       "    }\n",
       "\n",
       "    .dataframe thead th {\n",
       "        text-align: right;\n",
       "    }\n",
       "</style>\n",
       "<table border=\"1\" class=\"dataframe\">\n",
       "  <thead>\n",
       "    <tr style=\"text-align: right;\">\n",
       "      <th></th>\n",
       "      <th>Author</th>\n",
       "      <th>Title</th>\n",
       "      <th>Description</th>\n",
       "      <th>VoteCount</th>\n",
       "      <th>NumComments</th>\n",
       "      <th>Topic</th>\n",
       "      <th>Category</th>\n",
       "      <th>Date</th>\n",
       "      <th>uuid</th>\n",
       "      <th>BERT_embedding</th>\n",
       "    </tr>\n",
       "  </thead>\n",
       "  <tbody>\n",
       "    <tr>\n",
       "      <th>0</th>\n",
       "      <td>iateyourpie</td>\n",
       "      <td>Keep Moments</td>\n",
       "      <td>Moments is a feature that Twitch released as a...</td>\n",
       "      <td>4191</td>\n",
       "      <td>453</td>\n",
       "      <td>Stream Chat</td>\n",
       "      <td>Chat</td>\n",
       "      <td>31-Aug-23</td>\n",
       "      <td>9ec26a3c-f58d-448a-a6d9-81374a196099</td>\n",
       "      <td>[-2.33144253e-01 -5.99343926e-02  2.41251122e-...</td>\n",
       "    </tr>\n",
       "    <tr>\n",
       "      <th>1</th>\n",
       "      <td>iAndy88</td>\n",
       "      <td>Verified status for everyone and /verifiedonly...</td>\n",
       "      <td>I would appreciate a very helpful feature for ...</td>\n",
       "      <td>4049</td>\n",
       "      <td>246</td>\n",
       "      <td>Feature Request</td>\n",
       "      <td>Chat</td>\n",
       "      <td>12-Jan-21</td>\n",
       "      <td>fe4ffccb-41a7-43aa-8315-5d7ad1359525</td>\n",
       "      <td>[-0.32630354 -0.1644918  -0.0832853  -0.320167...</td>\n",
       "    </tr>\n",
       "    <tr>\n",
       "      <th>2</th>\n",
       "      <td>GohgoDude</td>\n",
       "      <td>Channel Points Leaderboard</td>\n",
       "      <td>Provide two leaderboards for channels that hav...</td>\n",
       "      <td>1883</td>\n",
       "      <td>21</td>\n",
       "      <td>Leaderboards</td>\n",
       "      <td>Chat</td>\n",
       "      <td>8-Jan-20</td>\n",
       "      <td>3a09216b-de6c-45b0-92f8-c52df11f66c2</td>\n",
       "      <td>[ 0.05259177 -0.20050193 -0.18675062 -0.406023...</td>\n",
       "    </tr>\n",
       "    <tr>\n",
       "      <th>3</th>\n",
       "      <td>Victor_sueca</td>\n",
       "      <td>/spoiler command</td>\n",
       "      <td>Users sending a spoiler could use this command...</td>\n",
       "      <td>817</td>\n",
       "      <td>15</td>\n",
       "      <td>Commands</td>\n",
       "      <td>Chat</td>\n",
       "      <td>17-Dec-16</td>\n",
       "      <td>d148a570-1f71-42e3-9680-1534e2af516d</td>\n",
       "      <td>[-3.89486223e-01  4.83136736e-02  1.72906816e-...</td>\n",
       "    </tr>\n",
       "    <tr>\n",
       "      <th>4</th>\n",
       "      <td>xSwagzy</td>\n",
       "      <td>Birthday Badge</td>\n",
       "      <td>It would be nice to have a birthday badge for ...</td>\n",
       "      <td>597</td>\n",
       "      <td>11</td>\n",
       "      <td>Feature Request</td>\n",
       "      <td>Chat</td>\n",
       "      <td>27-Nov-19</td>\n",
       "      <td>c6c20c0b-d61a-4d42-91fc-adf5049426d3</td>\n",
       "      <td>[-4.19030815e-01  3.81848723e-01 -3.61359119e-...</td>\n",
       "    </tr>\n",
       "  </tbody>\n",
       "</table>\n",
       "</div>"
      ],
      "text/plain": [
       "         Author                                              Title  \\\n",
       "0   iateyourpie                                       Keep Moments   \n",
       "1       iAndy88  Verified status for everyone and /verifiedonly...   \n",
       "2     GohgoDude                         Channel Points Leaderboard   \n",
       "3  Victor_sueca                                   /spoiler command   \n",
       "4       xSwagzy                                     Birthday Badge   \n",
       "\n",
       "                                         Description VoteCount NumComments  \\\n",
       "0  Moments is a feature that Twitch released as a...      4191         453   \n",
       "1  I would appreciate a very helpful feature for ...      4049         246   \n",
       "2  Provide two leaderboards for channels that hav...      1883          21   \n",
       "3  Users sending a spoiler could use this command...       817          15   \n",
       "4  It would be nice to have a birthday badge for ...       597          11   \n",
       "\n",
       "             Topic Category       Date                                  uuid  \\\n",
       "0      Stream Chat     Chat  31-Aug-23  9ec26a3c-f58d-448a-a6d9-81374a196099   \n",
       "1  Feature Request     Chat  12-Jan-21  fe4ffccb-41a7-43aa-8315-5d7ad1359525   \n",
       "2     Leaderboards     Chat   8-Jan-20  3a09216b-de6c-45b0-92f8-c52df11f66c2   \n",
       "3         Commands     Chat  17-Dec-16  d148a570-1f71-42e3-9680-1534e2af516d   \n",
       "4  Feature Request     Chat  27-Nov-19  c6c20c0b-d61a-4d42-91fc-adf5049426d3   \n",
       "\n",
       "                                      BERT_embedding  \n",
       "0  [-2.33144253e-01 -5.99343926e-02  2.41251122e-...  \n",
       "1  [-0.32630354 -0.1644918  -0.0832853  -0.320167...  \n",
       "2  [ 0.05259177 -0.20050193 -0.18675062 -0.406023...  \n",
       "3  [-3.89486223e-01  4.83136736e-02  1.72906816e-...  \n",
       "4  [-4.19030815e-01  3.81848723e-01 -3.61359119e-...  "
      ]
     },
     "execution_count": 2,
     "metadata": {},
     "output_type": "execute_result"
    }
   ],
   "source": [
    "twitch = pd.read_csv('data/dataset/twitch_ideas_with_BERT_embeddings.csv')\n",
    "twitch.head()"
   ]
  },
  {
   "cell_type": "code",
   "execution_count": 3,
   "metadata": {},
   "outputs": [
    {
     "data": {
      "text/html": [
       "<div>\n",
       "<style scoped>\n",
       "    .dataframe tbody tr th:only-of-type {\n",
       "        vertical-align: middle;\n",
       "    }\n",
       "\n",
       "    .dataframe tbody tr th {\n",
       "        vertical-align: top;\n",
       "    }\n",
       "\n",
       "    .dataframe thead th {\n",
       "        text-align: right;\n",
       "    }\n",
       "</style>\n",
       "<table border=\"1\" class=\"dataframe\">\n",
       "  <thead>\n",
       "    <tr style=\"text-align: right;\">\n",
       "      <th></th>\n",
       "      <th>Author</th>\n",
       "      <th>Title</th>\n",
       "      <th>Description</th>\n",
       "      <th>VoteCount</th>\n",
       "      <th>NumComments</th>\n",
       "      <th>Topic</th>\n",
       "      <th>Category</th>\n",
       "      <th>Date</th>\n",
       "      <th>uuid</th>\n",
       "      <th>BERT_embedding</th>\n",
       "    </tr>\n",
       "  </thead>\n",
       "  <tbody>\n",
       "    <tr>\n",
       "      <th>0</th>\n",
       "      <td>iateyourpie</td>\n",
       "      <td>Keep Moments</td>\n",
       "      <td>Moments is a feature that Twitch released as a...</td>\n",
       "      <td>4191</td>\n",
       "      <td>453</td>\n",
       "      <td>Stream Chat</td>\n",
       "      <td>Chat</td>\n",
       "      <td>31-Aug-23</td>\n",
       "      <td>9ec26a3c-f58d-448a-a6d9-81374a196099</td>\n",
       "      <td>[-0.233144253, -0.0599343926, 0.0241251122, -0...</td>\n",
       "    </tr>\n",
       "    <tr>\n",
       "      <th>1</th>\n",
       "      <td>iAndy88</td>\n",
       "      <td>Verified status for everyone and /verifiedonly...</td>\n",
       "      <td>I would appreciate a very helpful feature for ...</td>\n",
       "      <td>4049</td>\n",
       "      <td>246</td>\n",
       "      <td>Feature Request</td>\n",
       "      <td>Chat</td>\n",
       "      <td>12-Jan-21</td>\n",
       "      <td>fe4ffccb-41a7-43aa-8315-5d7ad1359525</td>\n",
       "      <td>[-0.32630354, -0.1644918, -0.0832853, -0.32016...</td>\n",
       "    </tr>\n",
       "    <tr>\n",
       "      <th>2</th>\n",
       "      <td>GohgoDude</td>\n",
       "      <td>Channel Points Leaderboard</td>\n",
       "      <td>Provide two leaderboards for channels that hav...</td>\n",
       "      <td>1883</td>\n",
       "      <td>21</td>\n",
       "      <td>Leaderboards</td>\n",
       "      <td>Chat</td>\n",
       "      <td>8-Jan-20</td>\n",
       "      <td>3a09216b-de6c-45b0-92f8-c52df11f66c2</td>\n",
       "      <td>[0.05259177, -0.20050193, -0.18675062, -0.4060...</td>\n",
       "    </tr>\n",
       "    <tr>\n",
       "      <th>3</th>\n",
       "      <td>Victor_sueca</td>\n",
       "      <td>/spoiler command</td>\n",
       "      <td>Users sending a spoiler could use this command...</td>\n",
       "      <td>817</td>\n",
       "      <td>15</td>\n",
       "      <td>Commands</td>\n",
       "      <td>Chat</td>\n",
       "      <td>17-Dec-16</td>\n",
       "      <td>d148a570-1f71-42e3-9680-1534e2af516d</td>\n",
       "      <td>[-0.389486223, 0.0483136736, 0.172906816, -0.2...</td>\n",
       "    </tr>\n",
       "    <tr>\n",
       "      <th>4</th>\n",
       "      <td>xSwagzy</td>\n",
       "      <td>Birthday Badge</td>\n",
       "      <td>It would be nice to have a birthday badge for ...</td>\n",
       "      <td>597</td>\n",
       "      <td>11</td>\n",
       "      <td>Feature Request</td>\n",
       "      <td>Chat</td>\n",
       "      <td>27-Nov-19</td>\n",
       "      <td>c6c20c0b-d61a-4d42-91fc-adf5049426d3</td>\n",
       "      <td>[-0.419030815, 0.381848723, -0.0361359119, -0....</td>\n",
       "    </tr>\n",
       "  </tbody>\n",
       "</table>\n",
       "</div>"
      ],
      "text/plain": [
       "         Author                                              Title  \\\n",
       "0   iateyourpie                                       Keep Moments   \n",
       "1       iAndy88  Verified status for everyone and /verifiedonly...   \n",
       "2     GohgoDude                         Channel Points Leaderboard   \n",
       "3  Victor_sueca                                   /spoiler command   \n",
       "4       xSwagzy                                     Birthday Badge   \n",
       "\n",
       "                                         Description VoteCount NumComments  \\\n",
       "0  Moments is a feature that Twitch released as a...      4191         453   \n",
       "1  I would appreciate a very helpful feature for ...      4049         246   \n",
       "2  Provide two leaderboards for channels that hav...      1883          21   \n",
       "3  Users sending a spoiler could use this command...       817          15   \n",
       "4  It would be nice to have a birthday badge for ...       597          11   \n",
       "\n",
       "             Topic Category       Date                                  uuid  \\\n",
       "0      Stream Chat     Chat  31-Aug-23  9ec26a3c-f58d-448a-a6d9-81374a196099   \n",
       "1  Feature Request     Chat  12-Jan-21  fe4ffccb-41a7-43aa-8315-5d7ad1359525   \n",
       "2     Leaderboards     Chat   8-Jan-20  3a09216b-de6c-45b0-92f8-c52df11f66c2   \n",
       "3         Commands     Chat  17-Dec-16  d148a570-1f71-42e3-9680-1534e2af516d   \n",
       "4  Feature Request     Chat  27-Nov-19  c6c20c0b-d61a-4d42-91fc-adf5049426d3   \n",
       "\n",
       "                                      BERT_embedding  \n",
       "0  [-0.233144253, -0.0599343926, 0.0241251122, -0...  \n",
       "1  [-0.32630354, -0.1644918, -0.0832853, -0.32016...  \n",
       "2  [0.05259177, -0.20050193, -0.18675062, -0.4060...  \n",
       "3  [-0.389486223, 0.0483136736, 0.172906816, -0.2...  \n",
       "4  [-0.419030815, 0.381848723, -0.0361359119, -0....  "
      ]
     },
     "execution_count": 3,
     "metadata": {},
     "output_type": "execute_result"
    }
   ],
   "source": [
    "def convert_embedding(string_embedding):\n",
    "    try:\n",
    "        # Remove brackets\n",
    "        string_embedding = string_embedding.strip('[]')\n",
    "        # Replace newline characters with spaces\n",
    "        string_embedding = string_embedding.replace('\\n', ' ')\n",
    "        # Split the string by spaces and filter out empty strings\n",
    "        elements = [elem for elem in string_embedding.split(' ') if elem]\n",
    "        # Convert elements to floats and create a numpy array\n",
    "        return np.array([float(elem) for elem in elements])\n",
    "    except Exception as e:\n",
    "        # In case of any error, return a zero vector or handle appropriately\n",
    "        print(\"Error:\", e)  # Optionally print the error for debugging\n",
    "\n",
    "twitch['BERT_embedding'] = twitch['BERT_embedding'].apply(convert_embedding)\n",
    "twitch.head()"
   ]
  },
  {
   "cell_type": "markdown",
   "metadata": {},
   "source": [
    "# Prepare train eval test data"
   ]
  },
  {
   "cell_type": "code",
   "execution_count": 4,
   "metadata": {},
   "outputs": [],
   "source": [
    "import pandas as pd\n",
    "from sklearn.preprocessing import MinMaxScaler\n",
    "\n",
    "min_instances = 10\n",
    "\n",
    "# Filter categories with at least min_instances instances\n",
    "twitch['VoteCount'] = pd.to_numeric(twitch['VoteCount'], errors='coerce')\n",
    "category_counts = twitch['Category'].value_counts()\n",
    "categories_to_keep = category_counts[category_counts >= min_instances].index\n",
    "filtered_data = twitch[twitch['Category'].isin(categories_to_keep)].copy()"
   ]
  },
  {
   "cell_type": "markdown",
   "metadata": {},
   "source": [
    "Category-wise normalization"
   ]
  },
  {
   "cell_type": "code",
   "execution_count": 10,
   "metadata": {},
   "outputs": [
    {
     "name": "stdout",
     "output_type": "stream",
     "text": [
      "Min-max values for each category:\n",
      "{'Account Management': (1.0, 1012.0), 'Ads': (0.0, 2714.0), 'Badges/Emotes': (0.0, 8269.0), 'Bits': (0.0, 1217.0), 'Channel Page': (1.0, 3262.0), 'Channel Points': (0.0, 1516.0), 'Charity': (1.0, 790.0), 'Chat': (0.0, 4191.0), 'Creator Camp': (1.0, 702.0), 'Creator Dashboard': (0.0, 2252.0), 'Creator Dashboard: Stream Manager': (1.0, 2296.0), 'Creators and Stream Features': (0.0, 3093.0), 'Customer Experience': (0.0, 132.0), 'Developers': (0.0, 738.0), 'Discover': (0.0, 8256.0), 'Extensions': (1.0, 427.0), 'IGDB': (0.0, 85.0), 'IRL Events and Merch': (0.0, 144.0), 'Localization': (1.0, 18563.0), 'Moderation': (0.0, 854.0), 'Purchase Management': (1.0, 74.0), 'Safety': (0.0, 8375.0), 'Subscriptions': (0.0, 1855.0), 'Twitch Applications: Consoles': (1.0, 487.0), 'Twitch Applications: Mobile': (0.0, 1653.0), 'Twitch Applications: TV Apps': (0.0, 422.0), 'Twitch Studio': (0.0, 800.0), 'User Accessibility': (1.0, 885.0), 'Video Features': (1.0, 1012.0), 'Video Performance': (1.0, 737.0)}\n"
     ]
    }
   ],
   "source": [
    "# Dictionary to store min-max values for each category\n",
    "min_max_values = {}\n",
    "\n",
    "# Grouping data by category and normalizing VoteCount within each category\n",
    "grouped_data = filtered_data.groupby('Category')\n",
    "\n",
    "for name, group in grouped_data:\n",
    "    min_val = group['VoteCount'].min()\n",
    "    max_val = group['VoteCount'].max()\n",
    "    scaler = MinMaxScaler().fit(group['VoteCount'].values.reshape(-1, 1))\n",
    "\n",
    "    # Storing the min and max values in the dictionary\n",
    "    min_max_values[name] = (min_val, max_val)\n",
    "\n",
    "    # Applying normalization\n",
    "    normalized_votes = scaler.transform(group['VoteCount'].values.reshape(-1, 1))\n",
    "    filtered_data.loc[filtered_data['Category'] == name, 'Normalized_VoteCount'] = normalized_votes.flatten()\n",
    "\n",
    "print('Min-max values for each category:')\n",
    "print(min_max_values)"
   ]
  },
  {
   "cell_type": "markdown",
   "metadata": {},
   "source": [
    "Global normalization"
   ]
  },
  {
   "cell_type": "code",
   "execution_count": 5,
   "metadata": {},
   "outputs": [
    {
     "name": "stdout",
     "output_type": "stream",
     "text": [
      "Global min-max values: {'Global': (0.0, 18563.0)}\n"
     ]
    }
   ],
   "source": [
    "from sklearn.preprocessing import MinMaxScaler\n",
    "\n",
    "# Initialize the MinMaxScaler\n",
    "scaler = MinMaxScaler()\n",
    "\n",
    "# Reshape for scaler and normalize\n",
    "normalized_votes = scaler.fit_transform(filtered_data['VoteCount'].values.reshape(-1, 1))\n",
    "\n",
    "# Add the normalized votes back to the dataframe\n",
    "filtered_data['Normalized_VoteCount'] = normalized_votes.flatten()\n",
    "\n",
    "# Storing the global min and max values\n",
    "min_val = filtered_data['VoteCount'].min()\n",
    "max_val = filtered_data['VoteCount'].max()\n",
    "min_max_values = {'Global': (min_val, max_val)}\n",
    "\n",
    "print('Global min-max values:', min_max_values)"
   ]
  },
  {
   "cell_type": "code",
   "execution_count": 6,
   "metadata": {},
   "outputs": [],
   "source": [
    "def inverse_transform_prediction(category, normalized_prediction):\n",
    "    min_val, max_val = min_max_values[category]\n",
    "    raw_prediction = normalized_prediction * (max_val - min_val) + min_val\n",
    "    return raw_prediction"
   ]
  },
  {
   "cell_type": "code",
   "execution_count": 7,
   "metadata": {},
   "outputs": [
    {
     "name": "stdout",
     "output_type": "stream",
     "text": [
      "Train size: (10275, 384)\n",
      "Eval size: (1284, 384)\n",
      "Test size: (1285, 384)\n"
     ]
    }
   ],
   "source": [
    "import numpy as np\n",
    "from sklearn.model_selection import train_test_split\n",
    "\n",
    "# Use normalized vote counts as the target variable\n",
    "X = list(filtered_data['BERT_embedding'])\n",
    "y = filtered_data['Normalized_VoteCount'].to_list()\n",
    "\n",
    "# Splitting the dataset into 80% train, 10% eval, and 10% test\n",
    "X_train, X_temp, y_train, y_temp = train_test_split(X, y, test_size=0.2, random_state=42)\n",
    "X_eval, X_test, y_eval, y_test = train_test_split(X_temp, y_temp, test_size=0.5, random_state=42)\n",
    "\n",
    "# Convert to numpy arrays\n",
    "X_train = np.array(X_train)\n",
    "X_eval = np.array(X_eval)\n",
    "X_test = np.array(X_test)\n",
    "\n",
    "print('Train size:', X_train.shape)\n",
    "print('Eval size:', X_eval.shape)\n",
    "print('Test size:', X_test.shape)"
   ]
  },
  {
   "cell_type": "code",
   "execution_count": 8,
   "metadata": {},
   "outputs": [],
   "source": [
    "performance_scores = {}"
   ]
  },
  {
   "cell_type": "markdown",
   "metadata": {},
   "source": [
    "## Linear Regression"
   ]
  },
  {
   "cell_type": "code",
   "execution_count": 9,
   "metadata": {},
   "outputs": [
    {
     "name": "stdout",
     "output_type": "stream",
     "text": [
      "Linear Regression\n",
      "Train MSE: 0.00019773590187743787\n",
      "Train MAE: 0.0034827946830055826\n",
      "Train R2: 0.05014473094856453\n",
      "Test MSE: 0.00015493157233979795\n",
      "Test MAE: 0.0038397171560330744\n",
      "Test R2: -0.016715174630614005\n"
     ]
    }
   ],
   "source": [
    "from sklearn.linear_model import LinearRegression\n",
    "from sklearn.metrics import mean_squared_error, mean_absolute_error, r2_score\n",
    "\n",
    "lin_reg = LinearRegression()\n",
    "lin_reg.fit(X_train, y_train)\n",
    "\n",
    "# Train Set Performance\n",
    "y_train_pred = lin_reg.predict(X_train)\n",
    "lin_reg_train_mse = mean_squared_error(y_train, y_train_pred)\n",
    "lin_reg_train_mae = mean_absolute_error(y_train, y_train_pred)\n",
    "lin_reg_train_r2 = r2_score(y_train, y_train_pred)\n",
    "\n",
    "# Test Set Performance\n",
    "y_test_pred = lin_reg.predict(X_test)\n",
    "lin_reg_test_mse = mean_squared_error(y_test, y_test_pred)\n",
    "lin_reg_test_mae = mean_absolute_error(y_test, y_test_pred)\n",
    "lin_reg_test_r2 = r2_score(y_test, y_test_pred)\n",
    "\n",
    "# Storing scores\n",
    "performance_scores['Linear Regression'] = {\n",
    "    'Train MSE': lin_reg_train_mse,\n",
    "    'Train MAE': lin_reg_train_mae,\n",
    "    'Train R2': lin_reg_train_r2,\n",
    "    'Test MSE': lin_reg_test_mse,\n",
    "    'Test MAE': lin_reg_test_mae,\n",
    "    'Test R2': lin_reg_test_r2\n",
    "}\n",
    "print('Linear Regression')\n",
    "print('Train MSE:', lin_reg_train_mse)\n",
    "print('Train MAE:', lin_reg_train_mae)\n",
    "print('Train R2:', lin_reg_train_r2)\n",
    "print('Test MSE:', lin_reg_test_mse)\n",
    "print('Test MAE:', lin_reg_test_mae)\n",
    "print('Test R2:', lin_reg_test_r2)"
   ]
  },
  {
   "cell_type": "markdown",
   "metadata": {},
   "source": [
    "## Ridge"
   ]
  },
  {
   "cell_type": "code",
   "execution_count": 10,
   "metadata": {},
   "outputs": [
    {
     "name": "stdout",
     "output_type": "stream",
     "text": [
      "Ridge Regression\n",
      "Train MSE: 0.0001977462920615688\n",
      "Train MAE: 0.0034444546522297507\n",
      "Train R2: 0.05009482007729893\n",
      "Test MSE: 0.00015456159909396953\n",
      "Test MAE: 0.0037983947356526036\n",
      "Test R2: -0.014287280770374\n"
     ]
    }
   ],
   "source": [
    "from sklearn.linear_model import Ridge\n",
    "\n",
    "ridge_reg = Ridge()\n",
    "ridge_reg.fit(X_train, y_train)\n",
    "\n",
    "# Train Set Performance\n",
    "y_train_pred = ridge_reg.predict(X_train)\n",
    "ridge_train_mse = mean_squared_error(y_train, y_train_pred)\n",
    "ridge_train_mae = mean_absolute_error(y_train, y_train_pred)\n",
    "ridge_train_r2 = r2_score(y_train, y_train_pred)\n",
    "\n",
    "# Test Set Performance\n",
    "y_test_pred = ridge_reg.predict(X_test)\n",
    "ridge_test_mse = mean_squared_error(y_test, y_test_pred)\n",
    "ridge_test_mae = mean_absolute_error(y_test, y_test_pred)\n",
    "ridge_test_r2 = r2_score(y_test, y_test_pred)\n",
    "\n",
    "# Storing scores\n",
    "performance_scores['Ridge Regression'] = {\n",
    "    'Train MSE': ridge_train_mse,\n",
    "    'Train MAE': ridge_train_mae,\n",
    "    'Train R2': ridge_train_r2,\n",
    "    'Test MSE': ridge_test_mse,\n",
    "    'Test MAE': ridge_test_mae,\n",
    "    'Test R2': ridge_test_r2\n",
    "}\n",
    "\n",
    "print('Ridge Regression')\n",
    "print('Train MSE:', ridge_train_mse)\n",
    "print('Train MAE:', ridge_train_mae)\n",
    "print('Train R2:', ridge_train_r2)\n",
    "print('Test MSE:', ridge_test_mse)\n",
    "print('Test MAE:', ridge_test_mae)\n",
    "print('Test R2:', ridge_test_r2)"
   ]
  },
  {
   "cell_type": "markdown",
   "metadata": {},
   "source": [
    "## Decision Tree"
   ]
  },
  {
   "cell_type": "code",
   "execution_count": 11,
   "metadata": {},
   "outputs": [
    {
     "name": "stdout",
     "output_type": "stream",
     "text": [
      "Decision Tree\n",
      "Train MSE: 4.0333439027582685e-09\n",
      "Train MAE: 8.86046897833162e-07\n",
      "Train R2: 0.9999806252030028\n",
      "Test MSE: 0.00021016202453152046\n",
      "Test MAE: 0.0029986012508460514\n",
      "Test R2: -0.3791567221925145\n"
     ]
    }
   ],
   "source": [
    "from sklearn.tree import DecisionTreeRegressor\n",
    "\n",
    "tree_reg = DecisionTreeRegressor()\n",
    "tree_reg.fit(X_train, y_train)\n",
    "\n",
    "# Train Set Performance\n",
    "y_train_pred = tree_reg.predict(X_train)\n",
    "tree_train_mse = mean_squared_error(y_train, y_train_pred)\n",
    "tree_train_mae = mean_absolute_error(y_train, y_train_pred)\n",
    "tree_train_r2 = r2_score(y_train, y_train_pred)\n",
    "\n",
    "# Test Set Performance\n",
    "y_test_pred = tree_reg.predict(X_test)\n",
    "tree_test_mse = mean_squared_error(y_test, y_test_pred)\n",
    "tree_test_mae = mean_absolute_error(y_test, y_test_pred)\n",
    "tree_test_r2 = r2_score(y_test, y_test_pred)\n",
    "\n",
    "# Storing scores\n",
    "performance_scores['Decision Tree'] = {\n",
    "    'Train MSE': tree_train_mse,\n",
    "    'Train MAE': tree_train_mae,\n",
    "    'Train R2': tree_train_r2,\n",
    "    'Test MSE': tree_test_mse,\n",
    "    'Test MAE': tree_test_mae,\n",
    "    'Test R2': tree_test_r2\n",
    "}\n",
    "\n",
    "print('Decision Tree')\n",
    "print('Train MSE:', tree_train_mse)\n",
    "print('Train MAE:', tree_train_mae)\n",
    "print('Train R2:', tree_train_r2)\n",
    "print('Test MSE:', tree_test_mse)\n",
    "print('Test MAE:', tree_test_mae)\n",
    "print('Test R2:', tree_test_r2)"
   ]
  },
  {
   "cell_type": "markdown",
   "metadata": {},
   "source": [
    "## SVR"
   ]
  },
  {
   "cell_type": "code",
   "execution_count": 12,
   "metadata": {},
   "outputs": [
    {
     "name": "stdout",
     "output_type": "stream",
     "text": [
      "SVR\n",
      "Train MSE: 0.0019115272319114324\n",
      "Train MAE: 0.034895434764357254\n",
      "Train R2: -8.182319426705748\n",
      "Test MSE: 0.002048256071367913\n",
      "Test MAE: 0.03552124231322799\n",
      "Test R2: -12.44137284504989\n"
     ]
    }
   ],
   "source": [
    "from sklearn.svm import SVR\n",
    "\n",
    "svr_reg = SVR(kernel='linear')\n",
    "svr_reg.fit(X_train, y_train)\n",
    "\n",
    "# Train Set Performance\n",
    "y_train_pred = svr_reg.predict(X_train)\n",
    "svr_train_mse = mean_squared_error(y_train, y_train_pred)\n",
    "svr_train_mae = mean_absolute_error(y_train, y_train_pred)\n",
    "svr_train_r2 = r2_score(y_train, y_train_pred)\n",
    "\n",
    "# Test Set Performance\n",
    "y_test_pred = svr_reg.predict(X_test)\n",
    "svr_test_mse = mean_squared_error(y_test, y_test_pred)\n",
    "svr_test_mae = mean_absolute_error(y_test, y_test_pred)\n",
    "svr_test_r2 = r2_score(y_test, y_test_pred)\n",
    "\n",
    "# Storing scores\n",
    "performance_scores['SVR'] = {\n",
    "    'Train MSE': svr_train_mse,\n",
    "    'Train MAE': svr_train_mae,\n",
    "    'Train R2': svr_train_r2,\n",
    "    'Test MSE': svr_test_mse,\n",
    "    'Test MAE': svr_test_mae,\n",
    "    'Test R2': svr_test_r2\n",
    "}\n",
    "\n",
    "print('SVR')\n",
    "print('Train MSE:', svr_train_mse)\n",
    "print('Train MAE:', svr_train_mae)\n",
    "print('Train R2:', svr_train_r2)\n",
    "print('Test MSE:', svr_test_mse)\n",
    "print('Test MAE:', svr_test_mae)\n",
    "print('Test R2:', svr_test_r2)"
   ]
  },
  {
   "cell_type": "markdown",
   "metadata": {},
   "source": [
    "## Elastic Net Regression"
   ]
  },
  {
   "cell_type": "code",
   "execution_count": 13,
   "metadata": {},
   "outputs": [
    {
     "name": "stdout",
     "output_type": "stream",
     "text": [
      "Elastic Net\n",
      "Train MSE: 0.00020817476969402408\n",
      "Train MAE: 0.0022477850460533026\n",
      "Train R2: 0.0\n",
      "Test MSE: 0.00015243022601332609\n",
      "Test MAE: 0.0024750962729260806\n",
      "Test R2: -0.0003004650351234872\n"
     ]
    }
   ],
   "source": [
    "from sklearn.linear_model import ElasticNet\n",
    "\n",
    "elastic_net_reg = ElasticNet()\n",
    "elastic_net_reg.fit(X_train, y_train)\n",
    "\n",
    "# Train Set Performance\n",
    "y_train_pred = elastic_net_reg.predict(X_train)\n",
    "elastic_net_train_mse = mean_squared_error(y_train, y_train_pred)\n",
    "elastic_net_train_mae = mean_absolute_error(y_train, y_train_pred)\n",
    "elastic_net_train_r2 = r2_score(y_train, y_train_pred)\n",
    "\n",
    "# Test Set Performance\n",
    "y_test_pred = elastic_net_reg.predict(X_test)\n",
    "elastic_net_test_mse = mean_squared_error(y_test, y_test_pred)\n",
    "elastic_net_test_mae = mean_absolute_error(y_test, y_test_pred)\n",
    "elastic_net_test_r2 = r2_score(y_test, y_test_pred)\n",
    "\n",
    "# Storing scores\n",
    "performance_scores['Elastic Net'] = {\n",
    "    'Train MSE': elastic_net_train_mse,\n",
    "    'Train MAE': elastic_net_train_mae,\n",
    "    'Train R2': elastic_net_train_r2,\n",
    "    'Test MSE': elastic_net_test_mse,\n",
    "    'Test MAE': elastic_net_test_mae,\n",
    "    'Test R2': elastic_net_test_r2\n",
    "}\n",
    "\n",
    "print('Elastic Net')\n",
    "print('Train MSE:', elastic_net_train_mse)\n",
    "print('Train MAE:', elastic_net_train_mae)\n",
    "print('Train R2:', elastic_net_train_r2)\n",
    "print('Test MSE:', elastic_net_test_mse)\n",
    "print('Test MAE:', elastic_net_test_mae)\n",
    "print('Test R2:', elastic_net_test_r2)"
   ]
  },
  {
   "cell_type": "markdown",
   "metadata": {},
   "source": [
    "## XGBoost"
   ]
  },
  {
   "cell_type": "code",
   "execution_count": 14,
   "metadata": {},
   "outputs": [
    {
     "name": "stdout",
     "output_type": "stream",
     "text": [
      "XGBoost\n",
      "Train MSE: 8.766520543351059e-07\n",
      "Train MAE: 0.0005883367137465037\n",
      "Train R2: 0.9957888650213299\n",
      "Test MSE: 0.0001779743066899394\n",
      "Test MAE: 0.003349733953578897\n",
      "Test R2: -0.16792965806326476\n"
     ]
    }
   ],
   "source": [
    "from xgboost import XGBRegressor\n",
    "\n",
    "xgb_reg = XGBRegressor()\n",
    "xgb_reg.fit(X_train, y_train)\n",
    "\n",
    "# Train Set Performance\n",
    "y_train_pred = xgb_reg.predict(X_train)\n",
    "xgb_train_mse = mean_squared_error(y_train, y_train_pred)\n",
    "xgb_train_mae = mean_absolute_error(y_train, y_train_pred)\n",
    "xgb_train_r2 = r2_score(y_train, y_train_pred)\n",
    "\n",
    "# Test Set Performance\n",
    "y_test_pred = xgb_reg.predict(X_test)\n",
    "xgb_test_mse = mean_squared_error(y_test, y_test_pred)\n",
    "xgb_test_mae = mean_absolute_error(y_test, y_test_pred)\n",
    "xgb_test_r2 = r2_score(y_test, y_test_pred)\n",
    "\n",
    "# Storing scores\n",
    "performance_scores['XGBoost'] = {\n",
    "    'Train MSE': xgb_train_mse,\n",
    "    'Train MAE': xgb_train_mae,\n",
    "    'Train R2': xgb_train_r2,\n",
    "    'Test MSE': xgb_test_mse,\n",
    "    'Test MAE': xgb_test_mae,\n",
    "    'Test R2': xgb_test_r2\n",
    "}\n",
    "\n",
    "print('XGBoost')\n",
    "print('Train MSE:', xgb_train_mse)\n",
    "print('Train MAE:', xgb_train_mae)\n",
    "print('Train R2:', xgb_train_r2)\n",
    "print('Test MSE:', xgb_test_mse)\n",
    "print('Test MAE:', xgb_test_mae)\n",
    "print('Test R2:', xgb_test_r2)"
   ]
  },
  {
   "cell_type": "markdown",
   "metadata": {},
   "source": [
    "## LightGBM"
   ]
  },
  {
   "cell_type": "code",
   "execution_count": 15,
   "metadata": {},
   "outputs": [
    {
     "name": "stdout",
     "output_type": "stream",
     "text": [
      "[LightGBM] [Info] Auto-choosing col-wise multi-threading, the overhead of testing was 0.055089 seconds.\n",
      "You can set `force_col_wise=true` to remove the overhead.\n",
      "[LightGBM] [Info] Total Bins 97920\n",
      "[LightGBM] [Info] Number of data points in the train set: 10275, number of used features: 384\n",
      "[LightGBM] [Info] Start training from score 0.001468\n",
      "LightGBM\n",
      "Train MSE: 8.241418151282754e-05\n",
      "Train MAE: 0.0018358510485488653\n",
      "Train R2: 0.604110615162634\n",
      "Test MSE: 0.00015867132987765675\n",
      "Test MAE: 0.003077387636114532\n",
      "Test R2: -0.04125677180643739\n"
     ]
    }
   ],
   "source": [
    "import lightgbm as lgb\n",
    "\n",
    "lgbm_reg = lgb.LGBMRegressor()\n",
    "lgbm_reg.fit(X_train, y_train)\n",
    "\n",
    "# Train Set Performance\n",
    "y_train_pred = lgbm_reg.predict(X_train)\n",
    "lgbm_train_mse = mean_squared_error(y_train, y_train_pred)\n",
    "lgbm_train_mae = mean_absolute_error(y_train, y_train_pred)\n",
    "lgbm_train_r2 = r2_score(y_train, y_train_pred)\n",
    "\n",
    "# Test Set Performance\n",
    "y_test_pred = lgbm_reg.predict(X_test)\n",
    "lgbm_test_mse = mean_squared_error(y_test, y_test_pred)\n",
    "lgbm_test_mae = mean_absolute_error(y_test, y_test_pred)\n",
    "lgbm_test_r2 = r2_score(y_test, y_test_pred)\n",
    "\n",
    "# Storing scores\n",
    "performance_scores['LightGBM'] = {\n",
    "    'Train MSE': lgbm_train_mse,\n",
    "    'Train MAE': lgbm_train_mae,\n",
    "    'Train R2': lgbm_train_r2,\n",
    "    'Test MSE': lgbm_test_mse,\n",
    "    'Test MAE': lgbm_test_mae,\n",
    "    'Test R2': lgbm_test_r2\n",
    "}\n",
    "\n",
    "print('LightGBM')\n",
    "print('Train MSE:', lgbm_train_mse)\n",
    "print('Train MAE:', lgbm_train_mae)\n",
    "print('Train R2:', lgbm_train_r2)\n",
    "print('Test MSE:', lgbm_test_mse)\n",
    "print('Test MAE:', lgbm_test_mae)\n",
    "print('Test R2:', lgbm_test_r2)"
   ]
  },
  {
   "cell_type": "markdown",
   "metadata": {},
   "source": [
    "## KNN"
   ]
  },
  {
   "cell_type": "code",
   "execution_count": 16,
   "metadata": {},
   "outputs": [
    {
     "name": "stdout",
     "output_type": "stream",
     "text": [
      "KNN\n",
      "Train MSE: 0.00014312346949123665\n",
      "Train MAE: 0.0019377814198324821\n",
      "Train R2: 0.31248407431121483\n",
      "Test MSE: 0.00019294311447642563\n",
      "Test MAE: 0.0026887677277778\n",
      "Test R2: -0.26616021102809806\n"
     ]
    }
   ],
   "source": [
    "from sklearn.neighbors import KNeighborsRegressor\n",
    "\n",
    "knn_reg = KNeighborsRegressor()\n",
    "knn_reg.fit(X_train, y_train)\n",
    "\n",
    "# Train Set Performance\n",
    "y_train_pred = knn_reg.predict(X_train)\n",
    "knn_train_mse = mean_squared_error(y_train, y_train_pred)\n",
    "knn_train_mae = mean_absolute_error(y_train, y_train_pred)\n",
    "knn_train_r2 = r2_score(y_train, y_train_pred)\n",
    "\n",
    "# Test Set Performance\n",
    "y_test_pred = knn_reg.predict(X_test)\n",
    "knn_test_mse = mean_squared_error(y_test, y_test_pred)\n",
    "knn_test_mae = mean_absolute_error(y_test, y_test_pred)\n",
    "knn_test_r2 = r2_score(y_test, y_test_pred)\n",
    "\n",
    "# Storing scores\n",
    "performance_scores['KNN'] = {\n",
    "    'Train MSE': knn_train_mse,\n",
    "    'Train MAE': knn_train_mae,\n",
    "    'Train R2': knn_train_r2,\n",
    "    'Test MSE': knn_test_mse,\n",
    "    'Test MAE': knn_test_mae,\n",
    "    'Test R2': knn_test_r2\n",
    "}\n",
    "\n",
    "print('KNN')\n",
    "print('Train MSE:', knn_train_mse)\n",
    "print('Train MAE:', knn_train_mae)\n",
    "print('Train R2:', knn_train_r2)\n",
    "print('Test MSE:', knn_test_mse)\n",
    "print('Test MAE:', knn_test_mae)\n",
    "print('Test R2:', knn_test_r2)"
   ]
  },
  {
   "cell_type": "markdown",
   "metadata": {},
   "source": [
    "## Bayesian Ridge Regressor"
   ]
  },
  {
   "cell_type": "code",
   "execution_count": 17,
   "metadata": {},
   "outputs": [
    {
     "name": "stdout",
     "output_type": "stream",
     "text": [
      "Bayesian Ridge\n",
      "Train MSE: 0.00020422279510123038\n",
      "Train MAE: 0.0023584875729241394\n",
      "Train R2: 0.018983926815926533\n",
      "Test MSE: 0.00014982265025836547\n",
      "Test MAE: 0.002596346702554887\n",
      "Test R2: 0.016811359230448297\n"
     ]
    }
   ],
   "source": [
    "from sklearn.linear_model import BayesianRidge\n",
    "\n",
    "bayesian_ridge_reg = BayesianRidge()\n",
    "bayesian_ridge_reg.fit(X_train, y_train)\n",
    "\n",
    "# Train Set Performance\n",
    "y_train_pred = bayesian_ridge_reg.predict(X_train)\n",
    "bayesian_ridge_train_mse = mean_squared_error(y_train, y_train_pred)\n",
    "bayesian_ridge_train_mae = mean_absolute_error(y_train, y_train_pred)\n",
    "bayesian_ridge_train_r2 = r2_score(y_train, y_train_pred)\n",
    "\n",
    "# Test Set Performance\n",
    "y_test_pred = bayesian_ridge_reg.predict(X_test)\n",
    "bayesian_ridge_test_mse = mean_squared_error(y_test, y_test_pred)\n",
    "bayesian_ridge_test_mae = mean_absolute_error(y_test, y_test_pred)\n",
    "bayesian_ridge_test_r2 = r2_score(y_test, y_test_pred)\n",
    "\n",
    "# Storing scores\n",
    "performance_scores['Bayesian Ridge'] = {\n",
    "    'Train MSE': bayesian_ridge_train_mse,\n",
    "    'Train MAE': bayesian_ridge_train_mae,\n",
    "    'Train R2': bayesian_ridge_train_r2,\n",
    "    'Test MSE': bayesian_ridge_test_mse,\n",
    "    'Test MAE': bayesian_ridge_test_mae,\n",
    "    'Test R2': bayesian_ridge_test_r2\n",
    "}\n",
    "\n",
    "print('Bayesian Ridge')\n",
    "print('Train MSE:', bayesian_ridge_train_mse)\n",
    "print('Train MAE:', bayesian_ridge_train_mae)\n",
    "print('Train R2:', bayesian_ridge_train_r2)\n",
    "print('Test MSE:', bayesian_ridge_test_mse)\n",
    "print('Test MAE:', bayesian_ridge_test_mae)\n",
    "print('Test R2:', bayesian_ridge_test_r2)"
   ]
  },
  {
   "cell_type": "markdown",
   "metadata": {},
   "source": [
    "## AdaBoost Regressor"
   ]
  },
  {
   "cell_type": "code",
   "execution_count": 18,
   "metadata": {},
   "outputs": [
    {
     "name": "stdout",
     "output_type": "stream",
     "text": [
      "AdaBoost\n",
      "Train MSE: 0.0005827194298593248\n",
      "Train MAE: 0.023273490844654604\n",
      "Train R2: -1.7991837373751278\n",
      "Test MSE: 0.0006856471830502509\n",
      "Test MAE: 0.02397204634740322\n",
      "Test R2: -3.499456662848668\n"
     ]
    }
   ],
   "source": [
    "from sklearn.ensemble import AdaBoostRegressor\n",
    "\n",
    "ada_reg = AdaBoostRegressor()\n",
    "ada_reg.fit(X_train, y_train)\n",
    "\n",
    "# Train Set Performance\n",
    "y_train_pred = ada_reg.predict(X_train)\n",
    "ada_train_mse = mean_squared_error(y_train, y_train_pred)\n",
    "ada_train_mae = mean_absolute_error(y_train, y_train_pred)\n",
    "ada_train_r2 = r2_score(y_train, y_train_pred)\n",
    "\n",
    "# Test Set Performance\n",
    "y_test_pred = ada_reg.predict(X_test)\n",
    "ada_test_mse = mean_squared_error(y_test, y_test_pred)\n",
    "ada_test_mae = mean_absolute_error(y_test, y_test_pred)\n",
    "ada_test_r2 = r2_score(y_test, y_test_pred)\n",
    "\n",
    "# Storing scores\n",
    "performance_scores['AdaBoost'] = {\n",
    "    'Train MSE': ada_train_mse,\n",
    "    'Train MAE': ada_train_mae,\n",
    "    'Train R2': ada_train_r2,\n",
    "    'Test MSE': ada_test_mse,\n",
    "    'Test MAE': ada_test_mae,\n",
    "    'Test R2': ada_test_r2\n",
    "}\n",
    "\n",
    "print('AdaBoost')\n",
    "print('Train MSE:', ada_train_mse)\n",
    "print('Train MAE:', ada_train_mae)\n",
    "print('Train R2:', ada_train_r2)\n",
    "print('Test MSE:', ada_test_mse)\n",
    "print('Test MAE:', ada_test_mae)\n",
    "print('Test R2:', ada_test_r2)"
   ]
  },
  {
   "cell_type": "markdown",
   "metadata": {},
   "source": [
    "## MLP"
   ]
  },
  {
   "cell_type": "code",
   "execution_count": 19,
   "metadata": {},
   "outputs": [
    {
     "name": "stdout",
     "output_type": "stream",
     "text": [
      "MLP Regressor\n",
      "Train MSE: 0.0002305767388817712\n",
      "Train MAE: 0.01076957541295703\n",
      "Train R2: -0.10761135569249625\n",
      "Test MSE: 0.00121438354959647\n",
      "Test MAE: 0.025197494365464364\n",
      "Test R2: -6.969209658497485\n"
     ]
    }
   ],
   "source": [
    "from sklearn.neural_network import MLPRegressor\n",
    "\n",
    "mlp_reg = MLPRegressor(max_iter=1000)\n",
    "mlp_reg.fit(X_train, y_train)\n",
    "\n",
    "# Train Set Performance\n",
    "y_train_pred = mlp_reg.predict(X_train)\n",
    "mlp_train_mse = mean_squared_error(y_train, y_train_pred)\n",
    "mlp_train_mae = mean_absolute_error(y_train, y_train_pred)\n",
    "mlp_train_r2 = r2_score(y_train, y_train_pred)\n",
    "\n",
    "# Test Set Performance\n",
    "y_test_pred = mlp_reg.predict(X_test)\n",
    "mlp_test_mse = mean_squared_error(y_test, y_test_pred)\n",
    "mlp_test_mae = mean_absolute_error(y_test, y_test_pred)\n",
    "mlp_test_r2 = r2_score(y_test, y_test_pred)\n",
    "\n",
    "# Storing scores\n",
    "performance_scores['MLP Regressor'] = {\n",
    "    'Train MSE': mlp_train_mse,\n",
    "    'Train MAE': mlp_train_mae,\n",
    "    'Train R2': mlp_train_r2,\n",
    "    'Test MSE': mlp_test_mse,\n",
    "    'Test MAE': mlp_test_mae,\n",
    "    'Test R2': mlp_test_r2\n",
    "}\n",
    "\n",
    "print('MLP Regressor')\n",
    "print('Train MSE:', mlp_train_mse)\n",
    "print('Train MAE:', mlp_train_mae)\n",
    "print('Train R2:', mlp_train_r2)\n",
    "print('Test MSE:', mlp_test_mse)\n",
    "print('Test MAE:', mlp_test_mae)\n",
    "print('Test R2:', mlp_test_r2)"
   ]
  },
  {
   "cell_type": "markdown",
   "metadata": {},
   "source": [
    "## Neural Network"
   ]
  },
  {
   "cell_type": "code",
   "execution_count": 20,
   "metadata": {},
   "outputs": [],
   "source": [
    "import torch\n",
    "from torch.utils.data import TensorDataset, DataLoader\n",
    "from sklearn.preprocessing import StandardScaler\n",
    "\n",
    "# Converting data to PyTorch Tensors\n",
    "X_train_tensor = torch.tensor(X_train, dtype=torch.float32)\n",
    "y_train_tensor = torch.tensor(y_train, dtype=torch.float32)\n",
    "X_eval_tensor = torch.tensor(X_eval, dtype=torch.float32)\n",
    "y_eval_tensor = torch.tensor(y_eval, dtype=torch.float32)\n",
    "X_test_tensor = torch.tensor(X_test, dtype=torch.float32)\n",
    "y_test_tensor = torch.tensor(y_test, dtype=torch.float32)\n",
    "\n",
    "# Creating datasets\n",
    "train_dataset = TensorDataset(X_train_tensor, y_train_tensor)\n",
    "eval_dataset = TensorDataset(X_eval_tensor, y_eval_tensor)\n",
    "test_dataset = TensorDataset(X_test_tensor, y_test_tensor)\n",
    "\n",
    "# Creating data loaders\n",
    "batch_size = 32\n",
    "train_loader = DataLoader(dataset=train_dataset, batch_size=batch_size, shuffle=True)\n",
    "eval_loader = DataLoader(dataset=eval_dataset, batch_size=batch_size, shuffle=False)\n",
    "test_loader = DataLoader(dataset=test_dataset, batch_size=batch_size, shuffle=False)"
   ]
  },
  {
   "cell_type": "code",
   "execution_count": 21,
   "metadata": {},
   "outputs": [
    {
     "name": "stdout",
     "output_type": "stream",
     "text": [
      "RegressionNeuralNetwork(\n",
      "  (layer1): Linear(in_features=384, out_features=128, bias=True)\n",
      "  (layer2): Linear(in_features=128, out_features=64, bias=True)\n",
      "  (layer3): Linear(in_features=64, out_features=1, bias=True)\n",
      "  (relu): ReLU()\n",
      ")\n"
     ]
    }
   ],
   "source": [
    "from torch import nn\n",
    "\n",
    "class RegressionNeuralNetwork(nn.Module):\n",
    "    def __init__(self, input_size):\n",
    "        super(RegressionNeuralNetwork, self).__init__()\n",
    "        self.layer1 = nn.Linear(input_size, 128)\n",
    "        self.layer2 = nn.Linear(128, 64)\n",
    "        self.layer3 = nn.Linear(64, 1)  # Output size is 1 for regression\n",
    "        self.relu = nn.ReLU()\n",
    "\n",
    "    def forward(self, x):\n",
    "        x = self.relu(self.layer1(x))\n",
    "        x = self.relu(self.layer2(x))\n",
    "        x = self.layer3(x)\n",
    "        return x\n",
    "\n",
    "# Assuming input_size is the number of features in X_train\n",
    "input_size = X_train.shape[1]\n",
    "\n",
    "model = RegressionNeuralNetwork(input_size)\n",
    "print(model)\n",
    "\n",
    "# Use Mean Squared Error Loss for Regression\n",
    "criterion = nn.MSELoss()\n",
    "optimizer = torch.optim.Adam(model.parameters(), lr=0.001)"
   ]
  },
  {
   "cell_type": "code",
   "execution_count": 22,
   "metadata": {},
   "outputs": [
    {
     "name": "stdout",
     "output_type": "stream",
     "text": [
      "Epoch [1/10], Loss: 0.0001\n",
      "Epoch [2/10], Loss: 0.0000\n",
      "Epoch [3/10], Loss: 0.0000\n",
      "Epoch [4/10], Loss: 0.0000\n",
      "Epoch [5/10], Loss: 0.0000\n",
      "Epoch [6/10], Loss: 0.0000\n",
      "Epoch [7/10], Loss: 0.0000\n",
      "Epoch [8/10], Loss: 0.0000\n",
      "Epoch [9/10], Loss: 0.0000\n",
      "Epoch [10/10], Loss: 0.0000\n"
     ]
    }
   ],
   "source": [
    "# Training loop\n",
    "num_epochs = 10\n",
    "for epoch in range(num_epochs):\n",
    "    model.train()\n",
    "    for inputs, labels in train_loader:\n",
    "        optimizer.zero_grad()\n",
    "        outputs = model(inputs)\n",
    "        loss = criterion(outputs.squeeze(), labels)  # Squeeze to match label dimensions\n",
    "        loss.backward()\n",
    "        optimizer.step()\n",
    "\n",
    "    print(f'Epoch [{epoch+1}/{num_epochs}], Loss: {loss.item():.4f}')"
   ]
  },
  {
   "cell_type": "code",
   "execution_count": 23,
   "metadata": {},
   "outputs": [
    {
     "name": "stdout",
     "output_type": "stream",
     "text": [
      "Neural Network Regressor\n",
      "Train MSE: 0.00011808559\n",
      "Train MAE: 0.0033071965\n",
      "Train R2: 0.4327574156732036\n",
      "Test MSE: 0.00015620347\n",
      "Test MAE: 0.0038807902\n",
      "Test R2: -0.025061750834613816\n"
     ]
    }
   ],
   "source": [
    "def evaluate_regression_model(model, data_loader):\n",
    "    model.eval()\n",
    "    all_preds = []\n",
    "    all_labels = []\n",
    "    with torch.no_grad():\n",
    "        for inputs, labels in data_loader:\n",
    "            outputs = model(inputs)\n",
    "            all_preds.extend(outputs.squeeze().numpy())\n",
    "            all_labels.extend(labels.numpy())\n",
    "\n",
    "    mse = mean_squared_error(all_labels, all_preds)\n",
    "    mae = mean_absolute_error(all_labels, all_preds)\n",
    "    r2 = r2_score(all_labels, all_preds)\n",
    "    return mse, mae, r2\n",
    "\n",
    "train_mse, train_mae, train_r2 = evaluate_regression_model(model, train_loader)\n",
    "test_mse, test_mae, test_r2 = evaluate_regression_model(model, test_loader)\n",
    "\n",
    "performance_scores['Neural Network Regressor'] = {\n",
    "    'Train MSE': train_mse,\n",
    "    'Train MAE': train_mae,\n",
    "    'Train R2': train_r2,\n",
    "    'Test MSE': test_mse,\n",
    "    'Test MAE': test_mae,\n",
    "    'Test R2': test_r2\n",
    "}\n",
    "\n",
    "print('Neural Network Regressor')\n",
    "print('Train MSE:', train_mse)\n",
    "print('Train MAE:', train_mae)\n",
    "print('Train R2:', train_r2)\n",
    "print('Test MSE:', test_mse)\n",
    "print('Test MAE:', test_mae)\n",
    "print('Test R2:', test_r2)"
   ]
  },
  {
   "cell_type": "code",
   "execution_count": 24,
   "metadata": {},
   "outputs": [],
   "source": [
    "import pickle\n",
    "\n",
    "with open('data/pickles/X_train_tensor_regression_BERT.pickle', 'wb') as f:\n",
    "    pickle.dump(X_train_tensor, f)\n",
    "\n",
    "with open('data/pickles/y_train_tensor_regression_BERT.pickle', 'wb') as f:\n",
    "    pickle.dump(y_train_tensor, f)\n",
    "\n",
    "with open('data/pickles/X_eval_tensor_regression_BERT.pickle', 'wb') as f:\n",
    "    pickle.dump(X_eval_tensor, f)\n",
    "\n",
    "with open('data/pickles/y_eval_tensor_regression_BERT.pickle', 'wb') as f:\n",
    "    pickle.dump(y_eval_tensor, f)\n",
    "\n",
    "with open('data/pickles/X_test_tensor_regression_BERT.pickle', 'wb') as f:\n",
    "    pickle.dump(X_test_tensor, f)\n",
    "\n",
    "with open('data/pickles/y_test_tensor_regression_BERT.pickle', 'wb') as f:\n",
    "    pickle.dump(y_test_tensor, f)"
   ]
  },
  {
   "cell_type": "markdown",
   "metadata": {},
   "source": [
    "## Saving Models"
   ]
  },
  {
   "cell_type": "code",
   "execution_count": 25,
   "metadata": {},
   "outputs": [
    {
     "name": "stdout",
     "output_type": "stream",
     "text": [
      "Model neural_network saved successfully!\n",
      "All models saved successfully!\n"
     ]
    }
   ],
   "source": [
    "#save lin_reg ridge_reg tree_reg rf_reg svr_reg elastic_net_reg gb_reg xgb_reg lgbm_reg knn_reg bayesian_ridge_reg ada_reg mlp_reg models\n",
    "with open('models/lin_reg_regression_BERT.pickle', 'wb') as f:\n",
    "    pickle.dump(lin_reg, f)\n",
    "with open('models/ridge_reg_regression_BERT.pickle', 'wb') as f:\n",
    "    pickle.dump(ridge_reg, f)\n",
    "with open('models/tree_reg_regression_BERT.pickle', 'wb') as f:\n",
    "    pickle.dump(tree_reg, f)\n",
    "with open('models/svr_reg_regression_BERT.pickle', 'wb') as f:\n",
    "    pickle.dump(svr_reg, f)\n",
    "with open('models/elastic_net_reg_regression_BERT.pickle', 'wb') as f:\n",
    "    pickle.dump(elastic_net_reg, f)\n",
    "with open('models/xgb_reg_regression_BERT.pickle', 'wb') as f:\n",
    "    pickle.dump(xgb_reg, f)\n",
    "with open('models/lgbm_reg_regression_BERT.pickle', 'wb') as f:\n",
    "    pickle.dump(lgbm_reg, f)\n",
    "with open('models/knn_reg_regression_BERT.pickle', 'wb') as f:\n",
    "    pickle.dump(knn_reg, f)\n",
    "with open('models/bayesian_ridge_reg_regression_BERT.pickle', 'wb') as f:\n",
    "    pickle.dump(bayesian_ridge_reg, f)\n",
    "with open('models/ada_reg_regression_BERT.pickle', 'wb') as f:\n",
    "    pickle.dump(ada_reg, f)\n",
    "with open('models/mlp_reg_regression_BERT.pickle', 'wb') as f:\n",
    "    pickle.dump(mlp_reg, f)\n",
    "torch.save(model.state_dict(), 'models/neural_network_regression_BERT.pth')\n",
    "print('Model neural_network saved successfully!')\n",
    "print('All models saved successfully!')"
   ]
  },
  {
   "cell_type": "markdown",
   "metadata": {},
   "source": [
    "# Comparison"
   ]
  },
  {
   "cell_type": "code",
   "execution_count": 84,
   "metadata": {},
   "outputs": [],
   "source": [
    "import matplotlib.pyplot as plt\n",
    "import numpy as np\n",
    "\n",
    "# Assuming 'performance_scores' is your dictionary\n",
    "metrics = ['MSE', 'MAE', 'R2']\n",
    "data_train = {metric: [] for metric in metrics}\n",
    "data_test = {metric: [] for metric in metrics}\n",
    "models = list(performance_scores.keys())\n",
    "\n",
    "for model in models:\n",
    "    for metric in metrics:\n",
    "        data_train[metric].append(performance_scores[model][f'Train {metric}'])\n",
    "        data_test[metric].append(performance_scores[model][f'Test {metric}'])"
   ]
  },
  {
   "cell_type": "code",
   "execution_count": 85,
   "metadata": {},
   "outputs": [
    {
     "data": {
      "image/png": "[encoded data removed]",
      "text/plain": [
       "<Figure size 1000x1500 with 3 Axes>"
      ]
     },
     "metadata": {},
     "output_type": "display_data"
    }
   ],
   "source": [
    "# Function to plot comparison bar chart\n",
    "def plot_comparison_chart(models, data_train, data_test, metric, ax):\n",
    "    n = len(models)\n",
    "    index = np.arange(n)\n",
    "    bar_width = 0.35\n",
    "\n",
    "    ax.bar(index, data_train[metric], bar_width, label='Train')\n",
    "    ax.bar(index + bar_width, data_test[metric], bar_width, label='Test')\n",
    "\n",
    "    ax.set_xlabel('Models')\n",
    "    ax.set_ylabel(metric)\n",
    "    ax.set_title(f'{metric} Comparison')\n",
    "    ax.set_xticks(index + bar_width / 2)\n",
    "    ax.set_xticklabels(models, rotation=45, ha='right')\n",
    "    ax.legend()\n",
    "\n",
    "fig, axs = plt.subplots(len(metrics), 1, figsize=(10, 15))\n",
    "\n",
    "for i, metric in enumerate(metrics):\n",
    "    plot_comparison_chart(models, data_train, data_test, metric, axs[i])\n",
    "\n",
    "plt.tight_layout()\n",
    "plt.show()"
   ]
  },
  {
   "cell_type": "code",
   "execution_count": null,
   "metadata": {},
   "outputs": [],
   "source": []
  }
 ],
 "metadata": {
  "kernelspec": {
   "display_name": "venv",
   "language": "python",
   "name": "python3"
  },
  "language_info": {
   "codemirror_mode": {
    "name": "ipython",
    "version": 3
   },
   "file_extension": ".py",
   "mimetype": "text/x-python",
   "name": "python",
   "nbconvert_exporter": "python",
   "pygments_lexer": "ipython3",
   "version": "3.10.12"
  },
  "orig_nbformat": 4
 },
 "nbformat": 4,
 "nbformat_minor": 2
}
